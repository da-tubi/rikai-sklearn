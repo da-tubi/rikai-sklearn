{
 "cells": [
  {
   "cell_type": "code",
   "execution_count": 1,
   "id": "e196c90f-1339-4fba-aa34-829f51fd3090",
   "metadata": {},
   "outputs": [
    {
     "data": {
      "text/plain": [
       "((569, 30), (569,))"
      ]
     },
     "execution_count": 1,
     "metadata": {},
     "output_type": "execute_result"
    }
   ],
   "source": [
    "from sklearn.datasets import load_breast_cancer\n",
    "X, y = load_breast_cancer(return_X_y=True)\n",
    "(X.shape, y.shape)"
   ]
  },
  {
   "cell_type": "code",
   "execution_count": 4,
   "id": "9510a50f-d7a8-4e64-b5ca-075ca6696720",
   "metadata": {},
   "outputs": [
    {
     "name": "stderr",
     "output_type": "stream",
     "text": [
      "/Users/da/.cache/pants/named_caches/pex_root/venvs/97296c1a2aa5705046eb53ad742c9a9d598e9ce1/b8b28948c516f8995ba76e435d4810948c58bd0a/lib/python3.8/site-packages/sklearn/svm/_base.py:1225: ConvergenceWarning: Liblinear failed to converge, increase the number of iterations.\n",
      "  warnings.warn(\n"
     ]
    }
   ],
   "source": [
    "from sklearn import svm\n",
    "model = svm.LinearSVC().fit(X, y)"
   ]
  },
  {
   "cell_type": "code",
   "execution_count": 11,
   "id": "0f3fbe2a-7dd5-4b7d-bc8a-8e393e6c76fe",
   "metadata": {},
   "outputs": [],
   "source": [
    "import inspect"
   ]
  },
  {
   "cell_type": "code",
   "execution_count": 20,
   "id": "919dde50-089b-42d6-bf8f-7f3fda4beff3",
   "metadata": {},
   "outputs": [
    {
     "data": {
      "text/plain": [
       "'sklearn.svm._classes'"
      ]
     },
     "execution_count": 20,
     "metadata": {},
     "output_type": "execute_result"
    }
   ],
   "source": [
    "model.__module__"
   ]
  },
  {
   "cell_type": "code",
   "execution_count": 30,
   "id": "389b1507-5b4f-4c69-bff8-63f282bd7953",
   "metadata": {},
   "outputs": [],
   "source": [
    "def get_model_type(model):\n",
    "    p = model.__module__[len(\"sklearn.\"): -len(\"_classes\")]\n",
    "    name = model.__class__.__name__\n",
    "    return \"rikai_sklearn.\" + p + name"
   ]
  },
  {
   "cell_type": "code",
   "execution_count": 31,
   "id": "b3066cfe-0582-466e-8919-25bee0f959d6",
   "metadata": {},
   "outputs": [
    {
     "data": {
      "text/plain": [
       "'rikai_sklearn.svm.LinearSVC'"
      ]
     },
     "execution_count": 31,
     "metadata": {},
     "output_type": "execute_result"
    }
   ],
   "source": [
    "get_model_type(model)"
   ]
  },
  {
   "cell_type": "code",
   "execution_count": 23,
   "id": "9c8e0204-1552-4177-8944-007827002044",
   "metadata": {},
   "outputs": [
    {
     "data": {
      "text/plain": [
       "8"
      ]
     },
     "execution_count": 23,
     "metadata": {},
     "output_type": "execute_result"
    }
   ],
   "source": [
    "len(\"sklearn.\")"
   ]
  },
  {
   "cell_type": "code",
   "execution_count": null,
   "id": "3e37b618-4592-458e-82a6-8e8ef9b4c45d",
   "metadata": {},
   "outputs": [],
   "source": []
  }
 ],
 "metadata": {
  "kernelspec": {
   "display_name": "Python 3 (ipykernel)",
   "language": "python",
   "name": "python3"
  },
  "language_info": {
   "codemirror_mode": {
    "name": "ipython",
    "version": 3
   },
   "file_extension": ".py",
   "mimetype": "text/x-python",
   "name": "python",
   "nbconvert_exporter": "python",
   "pygments_lexer": "ipython3",
   "version": "3.8.14"
  }
 },
 "nbformat": 4,
 "nbformat_minor": 5
}
