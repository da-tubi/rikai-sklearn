{
 "cells": [
  {
   "cell_type": "code",
   "execution_count": 1,
   "id": "e1bc816c-de2e-4dff-940c-6591e76e2d28",
   "metadata": {},
   "outputs": [],
   "source": [
    "from sklearn.linear_model import LinearRegression\n",
    "\n",
    "model = LinearRegression()"
   ]
  },
  {
   "cell_type": "code",
   "execution_count": 2,
   "id": "c178aa6b-d9e0-4879-bfb9-462a9402fdca",
   "metadata": {},
   "outputs": [
    {
     "data": {
      "text/plain": [
       "'regressor'"
      ]
     },
     "execution_count": 2,
     "metadata": {},
     "output_type": "execute_result"
    }
   ],
   "source": [
    "model._estimator_type"
   ]
  },
  {
   "cell_type": "code",
   "execution_count": null,
   "id": "1598122d-d993-4a8e-99c4-7c9f9a838ba2",
   "metadata": {},
   "outputs": [],
   "source": []
  }
 ],
 "metadata": {
  "kernelspec": {
   "display_name": "Python 3 (ipykernel)",
   "language": "python",
   "name": "python3"
  },
  "language_info": {
   "codemirror_mode": {
    "name": "ipython",
    "version": 3
   },
   "file_extension": ".py",
   "mimetype": "text/x-python",
   "name": "python",
   "nbconvert_exporter": "python",
   "pygments_lexer": "ipython3",
   "version": "3.8.14"
  }
 },
 "nbformat": 4,
 "nbformat_minor": 5
}
